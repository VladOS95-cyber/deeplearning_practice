{
  "nbformat": 4,
  "nbformat_minor": 0,
  "metadata": {
    "colab": {
      "provenance": [],
      "include_colab_link": true
    },
    "kernelspec": {
      "name": "python3",
      "display_name": "Python 3"
    },
    "accelerator": "GPU"
  },
  "cells": [
    {
      "cell_type": "markdown",
      "metadata": {
        "id": "view-in-github",
        "colab_type": "text"
      },
      "source": [
        "<a href=\"https://colab.research.google.com/github/VladOS95-cyber/deeplearning_practice/blob/main/AutoEncoders_RecommendationSystem.ipynb\" target=\"_parent\"><img src=\"https://colab.research.google.com/assets/colab-badge.svg\" alt=\"Open In Colab\"/></a>"
      ]
    },
    {
      "cell_type": "markdown",
      "metadata": {
        "id": "K4f4JG1gdKqj"
      },
      "source": [
        "#AutoEncoders"
      ]
    },
    {
      "cell_type": "markdown",
      "metadata": {
        "id": "EOBJ8UCXdY0g"
      },
      "source": [
        "##Importing the libraries"
      ]
    },
    {
      "cell_type": "code",
      "metadata": {
        "id": "_LvGeU1CeCtg"
      },
      "source": [
        "import numpy as np\n",
        "import pandas as pd\n",
        "import torch\n",
        "import torch.nn as nn\n",
        "import torch.nn.parallel\n",
        "import torch.optim as optim\n",
        "import torch.utils.data\n",
        "from torch.autograd import Variable"
      ],
      "execution_count": 1,
      "outputs": []
    },
    {
      "cell_type": "markdown",
      "metadata": {
        "id": "pM04FyMudkoK"
      },
      "source": [
        "## Importing the dataset\n"
      ]
    },
    {
      "cell_type": "code",
      "metadata": {
        "id": "UJw2p3-Cewo4"
      },
      "source": [
        "movies = pd.read_csv('movies.dat', sep = '::', header = None, engine = 'python', encoding = 'latin-1')\n",
        "users = pd.read_csv('users.dat', sep = '::', header = None, engine = 'python', encoding = 'latin-1')\n",
        "ratings = pd.read_csv('ratings.dat', sep = '::', header = None, engine = 'python', encoding = 'latin-1')"
      ],
      "execution_count": 3,
      "outputs": []
    },
    {
      "cell_type": "markdown",
      "metadata": {
        "id": "yTIbE2tkdkwP"
      },
      "source": [
        "## Preparing the training set and the test set\n"
      ]
    },
    {
      "cell_type": "code",
      "metadata": {
        "id": "2usLKJBEgPE2"
      },
      "source": [
        "training_set = pd.read_csv('u1.base', delimiter = '\\t')\n",
        "training_set = np.array(training_set, dtype = 'int')\n",
        "test_set = pd.read_csv('u1.test', delimiter = '\\t')\n",
        "test_set = np.array(test_set, dtype = 'int')"
      ],
      "execution_count": 4,
      "outputs": []
    },
    {
      "cell_type": "markdown",
      "metadata": {
        "id": "zCf8HjSydk4s"
      },
      "source": [
        "## Getting the number of users and movies\n"
      ]
    },
    {
      "cell_type": "code",
      "metadata": {
        "id": "gPaGZqdniC5m"
      },
      "source": [
        "nb_users = int(max(max(training_set[:, 0], ), max(test_set[:, 0])))\n",
        "nb_movies = int(max(max(training_set[:, 1], ), max(test_set[:, 1])))"
      ],
      "execution_count": 5,
      "outputs": []
    },
    {
      "cell_type": "markdown",
      "metadata": {
        "id": "J-w4-hVidlAm"
      },
      "source": [
        "## Converting the data into an array with users in lines and movies in columns\n"
      ]
    },
    {
      "cell_type": "code",
      "metadata": {
        "id": "-wASs2YFiDaa"
      },
      "source": [
        "def convert(data):\n",
        "  new_data = []\n",
        "  for id_users in range(1, nb_users + 1):\n",
        "    id_movies = data[:, 1] [data[:, 0] == id_users]\n",
        "    id_ratings = data[:, 2] [data[:, 0] == id_users]\n",
        "    ratings = np.zeros(nb_movies)\n",
        "    ratings[id_movies - 1] = id_ratings\n",
        "    new_data.append(list(ratings))\n",
        "  return new_data\n",
        "training_set = convert(training_set)\n",
        "test_set = convert(test_set)"
      ],
      "execution_count": 6,
      "outputs": []
    },
    {
      "cell_type": "markdown",
      "metadata": {
        "id": "AMmhuUpldlHo"
      },
      "source": [
        "## Converting the data into Torch tensors\n"
      ]
    },
    {
      "cell_type": "code",
      "metadata": {
        "id": "TwD-KD8yiEEw"
      },
      "source": [
        "training_set = torch.FloatTensor(training_set)\n",
        "test_set = torch.FloatTensor(test_set)"
      ],
      "execution_count": 7,
      "outputs": []
    },
    {
      "cell_type": "markdown",
      "metadata": {
        "id": "6kkL8NkkdlZj"
      },
      "source": [
        "## Creating the architecture of the Neural Network\n"
      ]
    },
    {
      "cell_type": "code",
      "source": [
        "class SAE(nn.Module):\n",
        "  def __init__(self, ):\n",
        "    super().__init__()\n",
        "    self.fc1 = nn.Linear(nb_movies, 20)\n",
        "    self.fc2 = nn.Linear(20, 10)\n",
        "    self.fc3 = nn.Linear(10, 20)\n",
        "    self.fc4 = nn.Linear(20, nb_movies)\n",
        "    self.activation = nn.Sigmoid()\n",
        "\n",
        "  def forward(self, x):\n",
        "    x = self.activation(self.fc1(x))\n",
        "    x = self.activation(self.fc2(x))\n",
        "    x = self.activation(self.fc3(x))\n",
        "    x = self.fc4(x)\n",
        "    return x\n",
        "\n",
        "sae = SAE()\n",
        "criterion = nn.MSELoss()\n",
        "optimizer = optim.RMSprop(sae.parameters(), weight_decay=0.5)"
      ],
      "metadata": {
        "id": "QXY9cs8naQKc"
      },
      "execution_count": 20,
      "outputs": []
    },
    {
      "cell_type": "markdown",
      "metadata": {
        "id": "7gy59alAdloL"
      },
      "source": [
        "## Training the SAE\n"
      ]
    },
    {
      "cell_type": "code",
      "source": [
        "# loss should be around 0.91 - 0.92 which means accuracy is about 1 star\n",
        "# in 5 stars recommendation system\n",
        "# Example: if movie has 4 stars rating, prediction accuracy will be between 3 - 4 stars\n",
        "nb_epoch = 200\n",
        "for epoch in range(1, nb_epoch + 1):\n",
        "  train_loss = 0\n",
        "  s = 0.\n",
        "  for id_user in range(nb_users):\n",
        "    input = Variable(training_set[id_user]).unsqueeze(0)\n",
        "    target = input.clone()\n",
        "    if torch.sum(target.data > 0) > 0:\n",
        "      output = sae(input)\n",
        "      target.requires_grad = False\n",
        "      output[target == 0] = 0\n",
        "      loss = criterion(output, target)\n",
        "      mean_corrector = nb_movies / float(torch.sum(target.data > 0) + 1e-10)\n",
        "      loss.backward()\n",
        "      train_loss += np.sqrt(loss.item() * mean_corrector)\n",
        "      s += 1.\n",
        "      optimizer.step()\n",
        "  print('epoch: ' + str(epoch) + ' loss: ' + str(train_loss/s))"
      ],
      "metadata": {
        "colab": {
          "base_uri": "https://localhost:8080/"
        },
        "id": "oFIM4gTNhEnG",
        "outputId": "7b3303c4-606a-4924-b45e-650d555d2748"
      },
      "execution_count": 27,
      "outputs": [
        {
          "output_type": "stream",
          "name": "stdout",
          "text": [
            "epoch: 1 loss: 1.0891801119652067\n",
            "epoch: 2 loss: 1.051624996993494\n",
            "epoch: 3 loss: 1.037828452825287\n",
            "epoch: 4 loss: 1.0304022691091614\n",
            "epoch: 5 loss: 1.0263437079106443\n",
            "epoch: 6 loss: 1.0237325711187824\n",
            "epoch: 7 loss: 1.0218833048539018\n",
            "epoch: 8 loss: 1.0204232395913777\n",
            "epoch: 9 loss: 1.0197886512098622\n",
            "epoch: 10 loss: 1.0188054981041197\n",
            "epoch: 11 loss: 1.018275011461171\n",
            "epoch: 12 loss: 1.0178276519250935\n",
            "epoch: 13 loss: 1.0177998931512446\n",
            "epoch: 14 loss: 1.0169903705605114\n",
            "epoch: 15 loss: 1.0169910244111313\n",
            "epoch: 16 loss: 1.01686647916472\n",
            "epoch: 17 loss: 1.0165867345153958\n",
            "epoch: 18 loss: 1.0162666728914274\n",
            "epoch: 19 loss: 1.0164285524622232\n",
            "epoch: 20 loss: 1.0159558981423467\n",
            "epoch: 21 loss: 1.0159363795938177\n",
            "epoch: 22 loss: 1.0158750838319468\n",
            "epoch: 23 loss: 1.0158760269761486\n",
            "epoch: 24 loss: 1.0155640523813894\n",
            "epoch: 25 loss: 1.0156731109353485\n",
            "epoch: 26 loss: 1.0151764916766668\n",
            "epoch: 27 loss: 1.0152892949087593\n",
            "epoch: 28 loss: 1.0145761069873196\n",
            "epoch: 29 loss: 1.012046387773822\n",
            "epoch: 30 loss: 1.0112192143352974\n",
            "epoch: 31 loss: 1.0087446807211362\n",
            "epoch: 32 loss: 1.007708754684722\n",
            "epoch: 33 loss: 1.0040011431928955\n",
            "epoch: 34 loss: 1.003752229584232\n",
            "epoch: 35 loss: 0.999437538868759\n",
            "epoch: 36 loss: 0.9995985378921483\n",
            "epoch: 37 loss: 0.9949125596170719\n",
            "epoch: 38 loss: 0.9951893032597371\n",
            "epoch: 39 loss: 0.9929552409314979\n",
            "epoch: 40 loss: 0.9922004409778793\n",
            "epoch: 41 loss: 0.9913898786431129\n",
            "epoch: 42 loss: 0.9921488244323282\n",
            "epoch: 43 loss: 0.9869831017886586\n",
            "epoch: 44 loss: 0.9850477516505167\n",
            "epoch: 45 loss: 0.9873510357176496\n",
            "epoch: 46 loss: 0.987345360540422\n",
            "epoch: 47 loss: 0.9821302045172876\n",
            "epoch: 48 loss: 0.9783628950194097\n",
            "epoch: 49 loss: 0.9782189640218523\n",
            "epoch: 50 loss: 0.9752654210320635\n",
            "epoch: 51 loss: 0.973363837054831\n",
            "epoch: 52 loss: 0.9724229730470048\n",
            "epoch: 53 loss: 0.9743315688435287\n",
            "epoch: 54 loss: 0.9761713403081342\n",
            "epoch: 55 loss: 0.9712663408245662\n",
            "epoch: 56 loss: 0.9715608073805585\n",
            "epoch: 57 loss: 0.9697677153987047\n",
            "epoch: 58 loss: 0.9670635371107469\n",
            "epoch: 59 loss: 0.9602105914147071\n",
            "epoch: 60 loss: 0.962744832024636\n",
            "epoch: 61 loss: 0.9604238718109982\n",
            "epoch: 62 loss: 0.9626289948803476\n",
            "epoch: 63 loss: 0.9607508620436939\n",
            "epoch: 64 loss: 0.9619466518605754\n",
            "epoch: 65 loss: 0.9595734475286384\n",
            "epoch: 66 loss: 0.965812463498823\n",
            "epoch: 67 loss: 0.9652455380222005\n",
            "epoch: 68 loss: 0.962115872676247\n",
            "epoch: 69 loss: 0.9587747903345994\n",
            "epoch: 70 loss: 0.9601554521020595\n",
            "epoch: 71 loss: 0.9546462158748236\n",
            "epoch: 72 loss: 0.9531873550292992\n",
            "epoch: 73 loss: 0.9549575150368422\n",
            "epoch: 74 loss: 0.9596452867467237\n",
            "epoch: 75 loss: 0.9560317885904929\n",
            "epoch: 76 loss: 0.9577939061031974\n",
            "epoch: 77 loss: 0.9544977362271934\n",
            "epoch: 78 loss: 0.9538956053144625\n",
            "epoch: 79 loss: 0.9519726840903672\n",
            "epoch: 80 loss: 0.952114061623627\n",
            "epoch: 81 loss: 0.9483353173893285\n",
            "epoch: 82 loss: 0.9492332949175094\n",
            "epoch: 83 loss: 0.9477396285720605\n",
            "epoch: 84 loss: 0.9481579681307569\n",
            "epoch: 85 loss: 0.9452955932174973\n",
            "epoch: 86 loss: 0.9453497313465585\n",
            "epoch: 87 loss: 0.9448955961929453\n",
            "epoch: 88 loss: 0.9440181942075968\n",
            "epoch: 89 loss: 0.9420567714447023\n",
            "epoch: 90 loss: 0.9419850527197181\n",
            "epoch: 91 loss: 0.9405144241725371\n",
            "epoch: 92 loss: 0.9409680635178278\n",
            "epoch: 93 loss: 0.9393560396309859\n",
            "epoch: 94 loss: 0.9397088728905991\n",
            "epoch: 95 loss: 0.9378171676310312\n",
            "epoch: 96 loss: 0.9383420306884099\n",
            "epoch: 97 loss: 0.9363982400836247\n",
            "epoch: 98 loss: 0.9367780059226927\n",
            "epoch: 99 loss: 0.9352527448426482\n",
            "epoch: 100 loss: 0.9364448004580411\n",
            "epoch: 101 loss: 0.9342710547747033\n",
            "epoch: 102 loss: 0.9350546231421291\n",
            "epoch: 103 loss: 0.933113670011372\n",
            "epoch: 104 loss: 0.9338644045247948\n",
            "epoch: 105 loss: 0.9329576125030955\n",
            "epoch: 106 loss: 0.9332888679476304\n",
            "epoch: 107 loss: 0.9312911998116424\n",
            "epoch: 108 loss: 0.9315236294738953\n",
            "epoch: 109 loss: 0.9310329709078548\n",
            "epoch: 110 loss: 0.931550961583625\n",
            "epoch: 111 loss: 0.9303433079668622\n",
            "epoch: 112 loss: 0.9305583082638671\n",
            "epoch: 113 loss: 0.9295616968468038\n",
            "epoch: 114 loss: 0.929873451206528\n",
            "epoch: 115 loss: 0.9289069670066988\n",
            "epoch: 116 loss: 0.9291078504049873\n",
            "epoch: 117 loss: 0.9278930870450831\n",
            "epoch: 118 loss: 0.9282517798879611\n",
            "epoch: 119 loss: 0.9270931369681711\n",
            "epoch: 120 loss: 0.9270917543556694\n",
            "epoch: 121 loss: 0.9266250091750622\n",
            "epoch: 122 loss: 0.927055461565581\n",
            "epoch: 123 loss: 0.9260638458457056\n",
            "epoch: 124 loss: 0.926039665519641\n",
            "epoch: 125 loss: 0.9254185389307219\n",
            "epoch: 126 loss: 0.926378408773198\n",
            "epoch: 127 loss: 0.9248034900788816\n",
            "epoch: 128 loss: 0.925152803106396\n",
            "epoch: 129 loss: 0.924335728503501\n",
            "epoch: 130 loss: 0.9244708866402167\n",
            "epoch: 131 loss: 0.9235194280350293\n",
            "epoch: 132 loss: 0.9238818357990307\n",
            "epoch: 133 loss: 0.9232592076649803\n",
            "epoch: 134 loss: 0.9242090970002438\n",
            "epoch: 135 loss: 0.9223943044623023\n",
            "epoch: 136 loss: 0.9225048294066801\n",
            "epoch: 137 loss: 0.9219264108229677\n",
            "epoch: 138 loss: 0.9222032048981623\n",
            "epoch: 139 loss: 0.9212902760837528\n",
            "epoch: 140 loss: 0.9217868666384977\n",
            "epoch: 141 loss: 0.9207901303323583\n",
            "epoch: 142 loss: 0.9210733762210296\n",
            "epoch: 143 loss: 0.9204463741681809\n",
            "epoch: 144 loss: 0.9204952204533873\n",
            "epoch: 145 loss: 0.9197349931149995\n",
            "epoch: 146 loss: 0.9202178854990344\n",
            "epoch: 147 loss: 0.9195998655857199\n",
            "epoch: 148 loss: 0.9196530759453573\n",
            "epoch: 149 loss: 0.9189443316091138\n",
            "epoch: 150 loss: 0.9193558497491702\n",
            "epoch: 151 loss: 0.9186540568095487\n",
            "epoch: 152 loss: 0.9186432614278464\n",
            "epoch: 153 loss: 0.9179818207232825\n",
            "epoch: 154 loss: 0.918509821747838\n",
            "epoch: 155 loss: 0.9182076712187293\n",
            "epoch: 156 loss: 0.9183327348927721\n",
            "epoch: 157 loss: 0.9176147182237238\n",
            "epoch: 158 loss: 0.917620436355667\n",
            "epoch: 159 loss: 0.9171817844964365\n",
            "epoch: 160 loss: 0.9174946224248222\n",
            "epoch: 161 loss: 0.9170631973448905\n",
            "epoch: 162 loss: 0.9168874706526678\n",
            "epoch: 163 loss: 0.9165404828548673\n",
            "epoch: 164 loss: 0.9166067944928132\n",
            "epoch: 165 loss: 0.9163890506974518\n",
            "epoch: 166 loss: 0.9164599448318494\n",
            "epoch: 167 loss: 0.9160576018678427\n",
            "epoch: 168 loss: 0.91614287886002\n",
            "epoch: 169 loss: 0.9156842314526941\n",
            "epoch: 170 loss: 0.9156319259592349\n",
            "epoch: 171 loss: 0.9154448800248314\n",
            "epoch: 172 loss: 0.9154294807692872\n",
            "epoch: 173 loss: 0.9151028153189706\n",
            "epoch: 174 loss: 0.9152757697374839\n",
            "epoch: 175 loss: 0.914900649218572\n",
            "epoch: 176 loss: 0.9150776727520302\n",
            "epoch: 177 loss: 0.9145846284083645\n",
            "epoch: 178 loss: 0.9148780760459311\n",
            "epoch: 179 loss: 0.9143895092750536\n",
            "epoch: 180 loss: 0.9144471263452801\n",
            "epoch: 181 loss: 0.9143139328126486\n",
            "epoch: 182 loss: 0.914360300713832\n",
            "epoch: 183 loss: 0.9138397719294571\n",
            "epoch: 184 loss: 0.9140669023506718\n",
            "epoch: 185 loss: 0.913875246135888\n",
            "epoch: 186 loss: 0.9139222200133051\n",
            "epoch: 187 loss: 0.913415906307769\n",
            "epoch: 188 loss: 0.9138019864204152\n",
            "epoch: 189 loss: 0.9132873509597863\n",
            "epoch: 190 loss: 0.9133632411986501\n",
            "epoch: 191 loss: 0.913126003699595\n",
            "epoch: 192 loss: 0.9132132691065318\n",
            "epoch: 193 loss: 0.9126956078002386\n",
            "epoch: 194 loss: 0.9130342458227035\n",
            "epoch: 195 loss: 0.9125962676552776\n",
            "epoch: 196 loss: 0.9128154280299081\n",
            "epoch: 197 loss: 0.9123820303101995\n",
            "epoch: 198 loss: 0.9125652732250924\n",
            "epoch: 199 loss: 0.9122956871369401\n",
            "epoch: 200 loss: 0.9122382422563835\n"
          ]
        }
      ]
    },
    {
      "cell_type": "markdown",
      "metadata": {
        "id": "Bak5uc8gd-gX"
      },
      "source": [
        "## Testing the SAE\n"
      ]
    },
    {
      "cell_type": "code",
      "source": [
        "test_loss = 0\n",
        "s = 0.\n",
        "for id_user in range(nb_users):\n",
        "  input = Variable(training_set[id_user]).unsqueeze(0)\n",
        "  target = Variable(test_set[id_user]).unsqueeze(0)\n",
        "  if torch.sum(target.data > 0) > 0:\n",
        "    output = sae(input)\n",
        "    target.requires_grad = False\n",
        "    output[target == 0] = 0\n",
        "    loss = criterion(output, target)\n",
        "    mean_corrector = nb_movies / float(torch.sum(target.data > 0) + 1e-10)\n",
        "    test_loss += np.sqrt(loss.item() * mean_corrector)\n",
        "    s += 1.\n",
        "print('Test loss: ' + str(test_loss/s))"
      ],
      "metadata": {
        "colab": {
          "base_uri": "https://localhost:8080/"
        },
        "id": "1AxEhPP0rtJ6",
        "outputId": "4de7dfea-af71-452d-afb5-9f6150074f7c"
      },
      "execution_count": 29,
      "outputs": [
        {
          "output_type": "stream",
          "name": "stdout",
          "text": [
            "Test loss: 0.9510461220127633\n"
          ]
        }
      ]
    }
  ]
}